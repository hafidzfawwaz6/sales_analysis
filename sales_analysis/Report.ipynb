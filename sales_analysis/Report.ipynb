{
 "cells": [
  {
   "cell_type": "markdown",
   "id": "054326ab-2c6c-41db-a049-83ec9e2f07af",
   "metadata": {},
   "source": [
    "# 1. Data Validation and Cleaning\n",
    "## Data Validation and Cleaning Steps\n",
    "### 1. Identify and Correct Inconsistent Sales Methods\n",
    "- **Objective**: Ensure consistency within the sales_method coumn to facilitate accurate grouping and analysis.\n",
    "- **Process**: Examined unique values in sales_method and found inconsistencies due to different naming (e.g. \"Em + Call\", \"Email + call\")\n",
    "- **Action Taken**: Stadardized the sales_method values by stripping whitespace, converting all entries to lowercase and convert the inconsistency of unique value\n",
    "- **Result**: The sales_method column now has consistent value, enabling accurate analysis across different sales approaches.\n",
    "\n",
    "### 2. Handle Missing Values in Revenue\n",
    "- **Objective**: Address any missing values in the revenue column, as they are critical for calculating metrics.\n",
    "- **Process**: Identified rows with missing values in revenue.\n",
    "- **Action Taken**: Replaced missing values directly, ensuring that all revenue data is complete for accurate analysis..\n",
    "- **Result**: Missing values in the revenue column have been filled, minimizing data loss and preserving as much information as possible.\n",
    "\n",
    "### 3. Remove Duplicate Entries\n",
    "- **Objective**: Eliminate redundant records to ensure accurate results.\n",
    "- **Process**: Checked for and identifies duplicate rows in the dataset.\n",
    "- **Action Taken**: Removed all duplicated entries, keeping only unique records.\n",
    "- **Result**: Duplicated entries have been eliminated, ensuring each record is unique and reducing any risk of biased results.\n",
    "\n",
    "### 4. Validate Data Types\n",
    "- **Objective**: Confirm that each column has an appropriate data type to support accurate analysis.\n",
    "- **Process**: Reviewed data types for each column. Found that revenue column were initially recognized as non-numeric.\n",
    "- **Action Taken**: Converted revenue to numeric data types to support calculations and analysis.\n",
    "- **Result**: Data types have been validated and corrected, ensuring compatibility with analytical operations.\n",
    "\n",
    "### 5. Verifying the Data Cleaning Results\n",
    "- **Objective**: Ensure all cleaning steps have been correctly applied.\n",
    "- **Process**: Rechecked for missing values, duplicates, data type consistency, and standardization in sales_method after all cleaning steps.\n",
    "- **Result**: the dataset has passed all validation checks and is fully prepared for analysis\n",
    "\n",
    "## Summary\n",
    "### The data validation and cleaning process has ensured that the dataset is now complete, accurate, and consistent. Key issues, including inconsistent sales methods, missing values, duplicates,and data type mismatches, have been effectively addressed. This validated dataset provides a strong foundation for in-depth analysis and reliable insights.\n"
   ]
  },
  {
   "cell_type": "markdown",
   "id": "5c6d2338-10ad-4d51-a4b1-48a7336e6c4d",
   "metadata": {},
   "source": [
    "# 2. Exploratory Data Analysis\n",
    "## Single Variable Graphics\n",
    "### 1. Distributin of Revenue\n",
    "- Graphics: Histogram of the revenue variable to show its distribution\n",
    "- Insight: This helps identify the overall spread of revenue values, the frequency of low versus high revenue transactions, and any potential outliers.\n",
    "\n",
    "![download (23)](download%20(23).png)\n",
    "\n",
    "### 2. Count of Customers by Sales Method\n",
    "- Graphic: Bar chart showing the count of customers for each sales_method.\n",
    "- Insight: Provides an understanding of which sales methods reach the most customers, which can indicate the method's popularity or effectiveness in engaging customers.\n",
    "\n",
    "![download (20)](download%20(20).png)\n",
    "\n",
    "\n",
    "## Multi-variable Graphics\n",
    "### 1. Weekly Revenue by Sales Method.\n",
    "- Graphics: Line plot showing the average weekly revenue across different sales_method categories.\n",
    "- Insight: This visual allows us to observe any patterns or variantions in revenue performance over time across different sales methods, helping to identify consistent or high-performing methods.\n",
    "\n",
    "![download (22)](download%20(22).png)\n",
    "\n",
    "\n",
    "## Findings\n",
    "- Revenue Distribution: Revenue is heavily concentrated at lower values, with some high-revenue outliers. This may suggest most transactions yield moderate revenue, with fewer high-value transactions.\n",
    "- Customer Reach by Sales Method: Email reaches the most customers, followed by Call and Email + Call. This indicates Email is widely used, possibly due to ease of scaling compared to other methods.\n",
    "- Weekly Revenue Trend: Email + Call consistently generates higher weekly revenue, though it’s used less frequently than Email alone. This suggests a higher effectiveness in driving revenue but may require more resources."
   ]
  },
  {
   "cell_type": "markdown",
   "id": "df741131-ff20-482b-83d6-eec8b45d0f07",
   "metadata": {},
   "source": [
    "# Definition of a Metric for Business Monitoring\n",
    "## Metric: Revenue per Customer\n",
    "- Reasoning: This metric allows the business to understand the average revenue generated by each customer per sales method. By tracking revenue per customer, the business can monitor the effectiveness of each sales method and identify opportunities for improvement or scaling.\n",
    "\n",
    "## Calculation of Initial Metric\n",
    "### To calculate the initial values, divide total revenue by the number of unique customers per sales method:\n",
    "`revenue_per_customer = data.groupby('sales_method')['revenue'].sum() / data.groupby('sales_method')['customer_id'].nunique()`\n",
    "`print(\"Revenue per Customer by Sales Method:\\n\", revenue_per_customer)`\n",
    "\n",
    "## Monitoring Approach for Revenue per Customer\n",
    "- Weekly Tracking: Track revenue per customer on a weekly basis for each sales method. This allows the business to detect trends, such as a drop in revenue per customer for any specific method, and adjust strategies accordingly.\n",
    "- Comparison Across Sales Methods: Regularly compare revenue per customer across different methods to assess which methods are performing well. If two methods yield similar revenue per customer but have differing resource requirements, the business can prioritize the more efficient option.\n",
    "- Setting Benchmarks: Use initial values of revenue per customer as benchmarks. By monitoring changes over time, the business can set goals for incremental improvements."
   ]
  },
  {
   "cell_type": "markdown",
   "id": "88aa4782-bb2f-4b4f-b7f8-6dbcba8b3506",
   "metadata": {},
   "source": [
    "# Final Summary\n",
    "## Summary of Findings:\n",
    "- Revenue per Customer: The Email + Call method produces the highest revenue per customer, making it ideal for targeting high-revenue clients, though it may require more resources.\n",
    "- Customer Reach: The Email method is highly scalable, reaching the largest number of customers at a lower cost, suitable for broad engagement.\n",
    "- Weekly Trends: Email + Call shows consistent high weekly revenue, suggesting it drives greater value despite its intensive nature, whereas Email can maintain customer engagement effectively with fewer resources.\n",
    "\n",
    "## Recommendations:\n",
    "- Strategic Focus: Prioritize the Email + Call method for high-value clients while using Email for broader campaigns, optimizing cost-effectiveness.\n",
    "- Metric Monitoring: Implement \"Revenue per Customer\" as a weekly monitored metric to assess performance, helping the business adjust its approach dynamically.\n",
    "- Resource Allocation: Allocate resources to high-return sales methods and adjust for method effectiveness over time."
   ]
  }
 ],
 "metadata": {
  "colab": {
   "name": "Welcome to DataCamp Workspaces.ipynb",
   "provenance": []
  },
  "kernelspec": {
   "display_name": "Python 3 (ipykernel)",
   "language": "python",
   "name": "python3"
  },
  "language_info": {
   "codemirror_mode": {
    "name": "ipython",
    "version": 3
   },
   "file_extension": ".py",
   "mimetype": "text/x-python",
   "name": "python",
   "nbconvert_exporter": "python",
   "pygments_lexer": "ipython3",
   "version": "3.10.6"
  }
 },
 "nbformat": 4,
 "nbformat_minor": 5
}
